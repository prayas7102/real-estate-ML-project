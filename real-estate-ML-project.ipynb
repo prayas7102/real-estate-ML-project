{
  "nbformat": 4,
  "nbformat_minor": 0,
  "metadata": {
    "colab": {
      "name": "Untitled0.ipynb",
      "provenance": [],
      "authorship_tag": "ABX9TyMuDx7bp+dx/arxPbjnNPrT",
      "include_colab_link": true
    },
    "kernelspec": {
      "name": "python3",
      "display_name": "Python 3"
    },
    "language_info": {
      "name": "python"
    }
  },
  "cells": [
    {
      "cell_type": "markdown",
      "metadata": {
        "id": "view-in-github",
        "colab_type": "text"
      },
      "source": [
        "<a href=\"https://colab.research.google.com/github/prayas7102/real-estate-ML-project/blob/main/real-estate-ML-project.ipynb\" target=\"_parent\"><img src=\"https://colab.research.google.com/assets/colab-badge.svg\" alt=\"Open In Colab\"/></a>"
      ]
    },
    {
      "cell_type": "markdown",
      "metadata": {
        "id": "s43tF-0hdbLt"
      },
      "source": [
        "# **Real** **State** **Price** **Predictor**"
      ]
    },
    {
      "cell_type": "code",
      "metadata": {
        "id": "CDpaY5OndyvQ"
      },
      "source": [
        "import pandas as pd"
      ],
      "execution_count": 7,
      "outputs": []
    },
    {
      "cell_type": "code",
      "metadata": {
        "id": "GFGlIKyb63MK",
        "colab": {
          "base_uri": "https://localhost:8080/"
        },
        "outputId": "de793d0e-f84e-486a-95eb-9e52c21f50f8"
      },
      "source": [
        "housing=pd.read_csv(\"data.csv\")\n",
        "housing.head()\n",
        "print(len(housing))"
      ],
      "execution_count": 11,
      "outputs": [
        {
          "output_type": "stream",
          "name": "stdout",
          "text": [
            "506\n"
          ]
        }
      ]
    },
    {
      "cell_type": "code",
      "metadata": {
        "id": "NvE5MkEDb7do"
      },
      "source": [
        "import numpy as np\n",
        "def split_train(data,ratio):\n",
        "  np.random.seed(42)\n",
        "  shuffle=np.random.permutation(len(data))\n",
        "  test_size=int(len(data)*ratio)\n",
        "  test_index=shuffle[:test_size]\n",
        "  train_index=shuffle[test_size:]\n",
        "  return data.iloc[train_index],data.iloc[test_index]"
      ],
      "execution_count": 22,
      "outputs": []
    },
    {
      "cell_type": "code",
      "metadata": {
        "id": "hpKrc8D3nbCm"
      },
      "source": [
        "#train_set,test_set=split_train(housing,0.2)"
      ],
      "execution_count": 16,
      "outputs": []
    },
    {
      "cell_type": "code",
      "metadata": {
        "id": "Ur4FCekd1AWP"
      },
      "source": [
        "from sklearn.model_selection import train_test_split\n",
        "train_set,test_set= train_test_split(housing,test_size=0.2,random_state=42)"
      ],
      "execution_count": 23,
      "outputs": []
    },
    {
      "cell_type": "code",
      "metadata": {
        "id": "E7Ln0oLiAEEV"
      },
      "source": [
        ""
      ],
      "execution_count": null,
      "outputs": []
    }
  ]
}